{
  "nbformat": 4,
  "nbformat_minor": 0,
  "metadata": {
    "kernelspec": {
      "display_name": "Python 3",
      "language": "python",
      "name": "python3"
    },
    "language_info": {
      "codemirror_mode": {
        "name": "ipython",
        "version": 3
      },
      "file_extension": ".py",
      "mimetype": "text/x-python",
      "name": "python",
      "nbconvert_exporter": "python",
      "pygments_lexer": "ipython3",
      "version": "3.7.3"
    },
    "toc": {
      "base_numbering": 1,
      "nav_menu": {
        "height": "12px",
        "width": "184px"
      },
      "number_sections": true,
      "sideBar": true,
      "skip_h1_title": false,
      "title_cell": "Table of Contents",
      "title_sidebar": "Contents",
      "toc_cell": false,
      "toc_position": {
        "height": "calc(100% - 180px)",
        "left": "10px",
        "top": "150px",
        "width": "384px"
      },
      "toc_section_display": true,
      "toc_window_display": true
    },
    "colab": {
      "name": "indic_nlp_examples.ipynb",
      "provenance": []
    }
  },
  "cells": [
    {
      "cell_type": "markdown",
      "metadata": {
        "id": "ZCeLMKb_JKbx",
        "colab_type": "text"
      },
      "source": [
        "# About"
      ]
    },
    {
      "cell_type": "markdown",
      "metadata": {
        "id": "cg1bMXs_JKb1",
        "colab_type": "text"
      },
      "source": [
        "The goal of the _Indic NLP Library_ is to build Python based libraries for common text processing and Natural Language Processing in Indian languages. Indian languages share a lot of similarity in terms of script, phonology, language syntax, etc. and this library is an attempt to provide a general solution to very commonly required toolsets for Indian language text. \n",
        "\n",
        "The library provides the following functionalities: \n",
        "\n",
        "- Text Normalization\n",
        "- Tokenization\n",
        "- Sentence Splitter\n",
        "- Script Conversion\n",
        "- Romanization\n",
        "- Indicization\n",
        "- Script Information\n",
        "- Phonetic Similarity\n",
        "- Syllabification\n",
        "- Word Segmenation\n",
        "- Transliteration\n",
        "- Translation\n",
        "\n",
        "The data resources required by the Indic NLP Library are hosted in a different repository. These resources are required for some modules. You can download from the [Indic NLP Resources](https://github.com/anoopkunchukuttan/indic_nlp_resources) project.\n",
        "\n",
        "# Pre-requisites\n",
        "\n",
        "- Python 3.5+\n",
        "- [Morfessor 2.0 Python Library](http://www.cis.hut.fi/projects/morpho/morfessor2.shtml)\n"
      ]
    },
    {
      "cell_type": "markdown",
      "metadata": {
        "id": "mkWJ-IORJKb2",
        "colab_type": "text"
      },
      "source": [
        "# Getting Started"
      ]
    },
    {
      "cell_type": "markdown",
      "metadata": {
        "id": "sqOd7NBTJKb3",
        "colab_type": "text"
      },
      "source": [
        "**  ----- Set these variables ----- **"
      ]
    },
    {
      "cell_type": "code",
      "metadata": {
        "id": "OqNrnnPjJKb4",
        "colab_type": "code",
        "colab": {}
      },
      "source": [
        "# The path to the local git repo for Indic NLP library\n",
        "INDIC_NLP_LIB_HOME=r\"C:\\Users\\ankunchu\\Documents\\src\\indic_nlp_library\"\n",
        "\n",
        "# The path to the local git repo for Indic NLP Resources\n",
        "INDIC_NLP_RESOURCES=r\"C:\\Users\\ankunchu\\Documents\\src\\indic_nlp_resources\""
      ],
      "execution_count": null,
      "outputs": []
    },
    {
      "cell_type": "markdown",
      "metadata": {
        "id": "9RsDDayoJKcB",
        "colab_type": "text"
      },
      "source": [
        "**Add Library to Python path**"
      ]
    },
    {
      "cell_type": "code",
      "metadata": {
        "id": "T8dZzsPyJKcE",
        "colab_type": "code",
        "colab": {}
      },
      "source": [
        "import sys\n",
        "sys.path.append(r'{}\\src'.format(INDIC_NLP_LIB_HOME))"
      ],
      "execution_count": null,
      "outputs": []
    },
    {
      "cell_type": "markdown",
      "metadata": {
        "id": "0xaYrORNJKcJ",
        "colab_type": "text"
      },
      "source": [
        "** Export environment variable ** \n",
        "\n",
        "    export INDIC_RESOURCES_PATH=<path>"
      ]
    },
    {
      "cell_type": "markdown",
      "metadata": {
        "id": "2vWEAqGiJKcK",
        "colab_type": "text"
      },
      "source": [
        "     OR\n",
        "     \n",
        "**set it programmatically**\n",
        "We will use that method for this demo"
      ]
    },
    {
      "cell_type": "code",
      "metadata": {
        "id": "f6Cw1rFvJKcK",
        "colab_type": "code",
        "colab": {}
      },
      "source": [
        "from indicnlp import common\n",
        "common.set_resources_path(INDIC_NLP_RESOURCES)"
      ],
      "execution_count": null,
      "outputs": []
    },
    {
      "cell_type": "markdown",
      "metadata": {
        "id": "uerQvnruJKcQ",
        "colab_type": "text"
      },
      "source": [
        "** Initialize the Indic NLP library **"
      ]
    },
    {
      "cell_type": "code",
      "metadata": {
        "id": "-KuZURzpJKcS",
        "colab_type": "code",
        "colab": {},
        "outputId": "16541d3b-c5dd-4ebd-cd97-47e64b6e4f09"
      },
      "source": [
        "from indicnlp import loader\n",
        "loader.load()"
      ],
      "execution_count": null,
      "outputs": [
        {
          "output_type": "stream",
          "text": [
            "C:\\Users\\ankunchu\\Documents\\src\\indic_nlp_library\\src\\indicnlp\\script\\indic_scripts.py:116: FutureWarning: Method .as_matrix will be removed in a future version. Use .values instead.\n",
            "  ALL_PHONETIC_VECTORS= ALL_PHONETIC_DATA.ix[:,PHONETIC_VECTOR_START_OFFSET:].as_matrix()\n",
            "C:\\Users\\ankunchu\\Documents\\src\\indic_nlp_library\\src\\indicnlp\\script\\indic_scripts.py:117: FutureWarning: Method .as_matrix will be removed in a future version. Use .values instead.\n",
            "  TAMIL_PHONETIC_VECTORS=TAMIL_PHONETIC_DATA.ix[:,PHONETIC_VECTOR_START_OFFSET:].as_matrix()\n",
            "C:\\Users\\ankunchu\\Documents\\src\\indic_nlp_library\\src\\indicnlp\\script\\english_script.py:113: FutureWarning: Method .as_matrix will be removed in a future version. Use .values instead.\n",
            "  ENGLISH_PHONETIC_VECTORS=ENGLISH_PHONETIC_DATA.ix[:,PHONETIC_VECTOR_START_OFFSET:].as_matrix()\n"
          ],
          "name": "stderr"
        }
      ]
    },
    {
      "cell_type": "markdown",
      "metadata": {
        "id": "QUztPmcdJKcZ",
        "colab_type": "text"
      },
      "source": [
        "** Let's actually try out some of the API methods in the Indic NLP library **"
      ]
    },
    {
      "cell_type": "markdown",
      "metadata": {
        "id": "omNLqJKEJKca",
        "colab_type": "text"
      },
      "source": [
        "Many of the API functions require a language code. We use 2-letter ISO 639-1 codes. Some languages do not have assigned 2-letter codes. We use the following two-letter codes for such languages: \n",
        "\n",
        "- Konkani: kK\n",
        "- Manipuri: mP\n",
        "- Bodo: bD"
      ]
    },
    {
      "cell_type": "markdown",
      "metadata": {
        "id": "qYxiMjLFJKca",
        "colab_type": "text"
      },
      "source": [
        "# Examples for various API features"
      ]
    },
    {
      "cell_type": "markdown",
      "metadata": {
        "id": "9dZ3f5WwJKcc",
        "colab_type": "text"
      },
      "source": [
        "## Text Normalization\n",
        "\n",
        "Text written in Indic scripts display a lot of quirky behaviour on account of varying input methods, multiple representations for the same character, etc. \n",
        "There is a need to canonicalize the representation of text so that NLP applications can handle the data in a consistent manner. The canonicalization primarily handles the following issues: \n",
        "\n",
        "    - Non-spacing characters like ZWJ/ZWNL\n",
        "    - Multiple representations of Nukta based characters \n",
        "    - Multiple representations of two part dependent vowel signs\n",
        "    - Typing inconsistencies: e.g. use of pipe (|) for poorna virama\n",
        "\n",
        "When data available is scarce, such normalization can help utilize the data more efficiently."
      ]
    },
    {
      "cell_type": "code",
      "metadata": {
        "id": "JrWJnFJTJKcd",
        "colab_type": "code",
        "colab": {},
        "outputId": "7a6a0ce7-21ad-46d0-9ac3-c31664a63cc8"
      },
      "source": [
        "from indicnlp.normalize.indic_normalize import IndicNormalizerFactory\n",
        "\n",
        "input_text=\"\\u0958 \\u0915\\u093c\"\n",
        "remove_nuktas=False\n",
        "factory=IndicNormalizerFactory()\n",
        "normalizer=factory.get_normalizer(\"hi\",remove_nuktas)\n",
        "output_text=normalizer.normalize(input_text)\n",
        "\n",
        "print(input_text)\n",
        "print()\n",
        "\n",
        "print('Before normalization')\n",
        "print(' '.join([ hex(ord(c)) for c in input_text ] ))\n",
        "print('Length: {}'.format(len(input_text)))\n",
        "print()    \n",
        "print('After normalization')\n",
        "print(' '.join([ hex(ord(c)) for c in output_text ] ))\n",
        "print('Length: {}'.format(len(output_text)))    \n"
      ],
      "execution_count": null,
      "outputs": [
        {
          "output_type": "stream",
          "text": [
            "क़ क़\n",
            "\n",
            "Before normalization\n",
            "0x958 0x20 0x915 0x93c\n",
            "Length: 4\n",
            "\n",
            "After normalization\n",
            "0x915 0x93c 0x20 0x915 0x93c\n",
            "Length: 5\n"
          ],
          "name": "stdout"
        }
      ]
    },
    {
      "cell_type": "markdown",
      "metadata": {
        "id": "Gv6wLJFDJKco",
        "colab_type": "text"
      },
      "source": [
        "## Sentence Splitter\n",
        "\n",
        "A smart sentence splitter which uses a two-pass rule-based system to split the text into sentences. It knows of common prefixes in Indian languages. "
      ]
    },
    {
      "cell_type": "code",
      "metadata": {
        "id": "3iGFtbZlJKcp",
        "colab_type": "code",
        "colab": {},
        "outputId": "a540e109-6150-41bf-ce83-8f34746b450f"
      },
      "source": [
        "#Sentence Splitter\n",
        "from indicnlp.tokenize import sentence_tokenize\n",
        "indic_string=\"\"\"तो क्या विश्व कप 2019 में मैच का बॉस टॉस है? यानी मैच में हार-जीत में \\\n",
        "टॉस की भूमिका अहम है? आप ऐसा सोच सकते हैं। विश्वकप के अपने-अपने पहले मैच में बुरी तरह हारने वाली एशिया की दो टीमों \\\n",
        "पाकिस्तान और श्रीलंका के कप्तान ने हालांकि अपने हार के पीछे टॉस की दलील तो नहीं दी, लेकिन यह जरूर कहा था कि वह एक अहम टॉस हार गए थे।\"\"\"\n",
        "sentences=sentence_tokenize.sentence_split(indic_string, lang='hi')\n",
        "for t in sentences:\n",
        "    print(t)"
      ],
      "execution_count": null,
      "outputs": [
        {
          "output_type": "stream",
          "text": [
            "तो क्या विश्व कप 2019 में मैच का बॉस टॉस है?\n",
            "यानी मैच में हार-जीत में टॉस की भूमिका अहम है?\n",
            "आप ऐसा सोच सकते हैं।\n",
            "विश्वकप के अपने-अपने पहले मैच में बुरी तरह हारने वाली एशिया की दो टीमों पाकिस्तान और श्रीलंका के कप्तान ने हालांकि अपने हार के पीछे टॉस की दलील तो नहीं दी, लेकिन यह जरूर कहा था कि वह एक अहम टॉस हार गए थे।\n"
          ],
          "name": "stdout"
        }
      ]
    },
    {
      "cell_type": "markdown",
      "metadata": {
        "id": "8gjwPp7DJKcv",
        "colab_type": "text"
      },
      "source": [
        "## Tokenization \n",
        "\n",
        "A trivial tokenizer which just tokenizes on the punctuation boundaries. This also includes punctuations for the Indian language scripts (the purna virama and the deergha virama). It returns a list of tokens.   \n"
      ]
    },
    {
      "cell_type": "code",
      "metadata": {
        "id": "OWt3qp5kJKcw",
        "colab_type": "code",
        "colab": {},
        "outputId": "3d84c720-bbb0-4b50-de27-b1da4e0ed387"
      },
      "source": [
        "from indicnlp.tokenize import indic_tokenize  \n",
        "\n",
        "indic_string='सुनो, कुछ आवाज़ आ रही है। फोन?'\n",
        "\n",
        "print('Input String: {}'.format(indic_string))\n",
        "print('Tokens: ')\n",
        "for t in indic_tokenize.trivial_tokenize(indic_string): \n",
        "    print(t)"
      ],
      "execution_count": null,
      "outputs": [
        {
          "output_type": "stream",
          "text": [
            "Input String: सुनो, कुछ आवाज़ आ रही है। फोन?\n",
            "Tokens: \n",
            "सुनो\n",
            ",\n",
            "कुछ\n",
            "आवाज़\n",
            "आ\n",
            "रही\n",
            "है\n",
            "।\n",
            "फोन\n",
            "?\n"
          ],
          "name": "stdout"
        }
      ]
    },
    {
      "cell_type": "markdown",
      "metadata": {
        "id": "1sNEWVnjLL47",
        "colab_type": "text"
      },
      "source": [
        ""
      ]
    },
    {
      "cell_type": "code",
      "metadata": {
        "id": "3A_-vmqILLgs",
        "colab_type": "code",
        "colab": {}
      },
      "source": [
        "#Sentence Splitter\n",
        "from indicnlp.tokenize import sentence_tokenize\n",
        "indic_string=\"\"\"तो क्या विश्व कप 2019 में मैच का बॉस टॉस है? यानी मैच में हार-जीत में \\\n",
        "टॉस की भूमिका अहम है? आप ऐसा सोच सकते हैं। विश्वकप के अपने-अपने पहले मैच में बुरी तरह हारने वाली एशिया की दो टीमों \\\n",
        "पाकिस्तान और श्रीलंका के कप्तान ने हालांकि अपने हार के पीछे टॉस की दलील तो नहीं दी, लेकिन यह जरूर कहा था कि वह एक अहम टॉस हार गए थे।\"\"\"\n",
        "sentences=sentence_tokenize.sentence_split(indic_string, lang='hi')\n",
        "for t in sentences:\n",
        "    print(t)\n",
        "    \n",
        "from indicnlp.tokenize import indic_tokenize  \n",
        "indic_string='सुनो, कुछ आवाज़ आ रही है। फोन?'\n",
        "print('Input String: {}'.format(indic_string))\n",
        "print('Tokens: ')\n",
        "for t in indic_tokenize.trivial_tokenize(indic_string): \n",
        "    print(t,end=\" \")\n",
        "    "
      ],
      "execution_count": null,
      "outputs": []
    },
    {
      "cell_type": "markdown",
      "metadata": {
        "id": "DkvqkG1WLTUn",
        "colab_type": "text"
      },
      "source": [
        "SENTENCE SPLITTER\n",
        "\n",
        "तो क्या विश्व कप 2019 में मैच का बॉस टॉस है?\n",
        "\n",
        "यानी मैच में हार-जीत में टॉस की भूमिका अहम है?\n",
        "\n",
        "आप ऐसा सोच सकते हैं।\n",
        "\n",
        "विश्वकप के अपने-अपने पहले मैच में बुरी तरह हारने वाली एशिया की दो टीमों पाकिस्तान और श्रीलंका के कप्तान ने हालांकि अपने हार के पीछे टॉस की दलील तो नहीं दी, लेकिन यह जरूर कहा था कि वह एक अहम टॉस हार गए थे।\n",
        "\n",
        "TOKENIZATION\n",
        "\n",
        "Tokens: \n",
        "सुनो\n",
        ",\n",
        "कुछ,\n",
        "आवाज़,\n",
        "आ,\n",
        "रही,\n",
        "है,\n",
        "।,\n",
        "फोन,\n",
        "?"
      ]
    },
    {
      "cell_type": "markdown",
      "metadata": {
        "id": "QyuUR1WVJKc2",
        "colab_type": "text"
      },
      "source": [
        "## De-tokenization \n",
        "\n",
        "A de-tokenizer for Indian languages that can address punctuation in Indic languages. The de-tokenizer is useful when generating natural language output. It can be used as a post-processor.\n"
      ]
    },
    {
      "cell_type": "code",
      "metadata": {
        "id": "ZOZw9UaQJKc3",
        "colab_type": "code",
        "colab": {},
        "outputId": "8daf7b3c-9122-4cd7-ffa4-5ff1ff0cd58a"
      },
      "source": [
        "from indicnlp.tokenize import indic_detokenize  \n",
        "indic_string='\" सुनो , कुछ आवाज़ आ रही है . \" , उसने कहा । '\n",
        "\n",
        "print('Input String: {}'.format(indic_string))\n",
        "print('Detokenized String: {}'.format(indic_detokenize.trivial_detokenize(indic_string,lang='hi')))\n"
      ],
      "execution_count": null,
      "outputs": [
        {
          "output_type": "stream",
          "text": [
            "Input String: \" सुनो , कुछ आवाज़ आ रही है . \" , उसने कहा । \n",
            "Detokenized String: \"सुनो, कुछ आवाज़ आ रही है.\", उसने कहा। \n"
          ],
          "name": "stdout"
        }
      ]
    },
    {
      "cell_type": "markdown",
      "metadata": {
        "id": "3_lQe4cuJKc9",
        "colab_type": "text"
      },
      "source": [
        "## Script Conversion\n",
        "\n",
        "Convert from one Indic script to another. This is a simple script which exploits the fact that Unicode points of various Indic scripts are at corresponding offsets from the base codepoint for that script. The following scripts are supported:\n",
        "\n",
        "_Devanagari (Hindi,Marathi,Sanskrit,Konkani,Sindhi,Nepali), Assamese, Bengali, Oriya, Gujarati, Gurumukhi (Punjabi), Sindhi, Tamil, Telugu, Kannada, Malayalam_"
      ]
    },
    {
      "cell_type": "code",
      "metadata": {
        "id": "tbwpLMoTJKdB",
        "colab_type": "code",
        "colab": {},
        "outputId": "8b1d8ca2-3867-4ecb-ea5c-99b72f254543"
      },
      "source": [
        "from indicnlp.transliterate.unicode_transliterate import UnicodeIndicTransliterator\n",
        "input_text='राजस्थान'\n",
        "# input_text='രാജസ്ഥാന'\n",
        "# input_text='රාජස්ථාන'\n",
        "print(UnicodeIndicTransliterator.transliterate(input_text,\"hi\",\"ta\"))"
      ],
      "execution_count": null,
      "outputs": [
        {
          "output_type": "stream",
          "text": [
            "ராஜஸ்தாந\n"
          ],
          "name": "stdout"
        }
      ]
    },
    {
      "cell_type": "markdown",
      "metadata": {
        "id": "KUxbMCu_JKdM",
        "colab_type": "text"
      },
      "source": [
        "## Romanization\n",
        "\n",
        "Convert script text to Roman text in the ITRANS notation"
      ]
    },
    {
      "cell_type": "code",
      "metadata": {
        "id": "Z_-fHZXPJKdM",
        "colab_type": "code",
        "colab": {},
        "outputId": "018d1544-0492-44b9-c61a-611e7be15620"
      },
      "source": [
        "from indicnlp.transliterate.unicode_transliterate import ItransTransliterator\n",
        "\n",
        "input_text='राजस्थान'\n",
        "# input_text='ஆசிரியர்கள்'\n",
        "lang='hi'\n",
        "\n",
        "print(ItransTransliterator.to_itrans(input_text,lang))"
      ],
      "execution_count": null,
      "outputs": [
        {
          "output_type": "stream",
          "text": [
            "raajasthaana\n"
          ],
          "name": "stdout"
        }
      ]
    },
    {
      "cell_type": "markdown",
      "metadata": {
        "id": "K5Z7UYhTJKdR",
        "colab_type": "text"
      },
      "source": [
        "## Indicization (ITRANS to Indic Script)\n",
        "\n",
        "Let's call conversion of ITRANS-transliteration to an Indic script as **Indicization**!\n"
      ]
    },
    {
      "cell_type": "code",
      "metadata": {
        "scrolled": true,
        "id": "kCQmcMlFJKdR",
        "colab_type": "code",
        "colab": {},
        "outputId": "f3bb1358-ca93-4eb5-b07e-d14fcdb48857"
      },
      "source": [
        "from indicnlp.transliterate.unicode_transliterate import ItransTransliterator\n",
        "\n",
        "\n",
        "# input_text='rajasthAna'\n",
        "input_text='pitL^In'\n",
        "lang='hi'\n",
        "x=ItransTransliterator.from_itrans(input_text,lang)\n",
        "print(x)\n",
        "for y in x:\n",
        "    print('{:x}'.format(ord(y)))"
      ],
      "execution_count": null,
      "outputs": [
        {
          "output_type": "stream",
          "text": [
            "பித௣ந்\n",
            "baa\n",
            "bbf\n",
            "ba4\n",
            "be3\n",
            "ba8\n",
            "bcd\n"
          ],
          "name": "stdout"
        }
      ]
    },
    {
      "cell_type": "markdown",
      "metadata": {
        "id": "Jjg1VtyiJKdX",
        "colab_type": "text"
      },
      "source": [
        "## Script Information\n",
        "\n",
        "Indic scripts have been designed keeping phonetic principles in nature and the design and organization of the scripts makes it easy to obtain phonetic information about the characters. "
      ]
    },
    {
      "cell_type": "markdown",
      "metadata": {
        "id": "DkspeFEKJKdY",
        "colab_type": "text"
      },
      "source": [
        "### Get Phonetic Feature Vector\n",
        "\n",
        "With each script character, a phontic feature vector is associated, which encodes the phontic properties of the character. This is a bit vector which is can be obtained as shown below:  "
      ]
    },
    {
      "cell_type": "code",
      "metadata": {
        "id": "RH6dWp6CJKdZ",
        "colab_type": "code",
        "colab": {},
        "outputId": "c2dac5e0-998d-4839-916e-d589dd783512"
      },
      "source": [
        "from indicnlp.script import  indic_scripts as isc\n",
        "\n",
        "c='क'\n",
        "lang='hi'\n",
        "\n",
        "isc.get_phonetic_feature_vector(c,lang)"
      ],
      "execution_count": null,
      "outputs": [
        {
          "output_type": "execute_result",
          "data": {
            "text/plain": [
              "array([0, 1, 0, 0, 0, 0, 0, 0, 0, 0, 0, 0, 0, 1, 0, 0, 0, 0, 1, 0, 0, 0,\n",
              "       0, 0, 1, 0, 1, 0, 1, 0, 0, 0, 0, 0, 0, 0, 0, 0], dtype=int64)"
            ]
          },
          "metadata": {
            "tags": []
          },
          "execution_count": 28
        }
      ]
    },
    {
      "cell_type": "markdown",
      "metadata": {
        "id": "3dC4jCIqJKdd",
        "colab_type": "text"
      },
      "source": [
        "This fields in this bit vector are (from left to right): "
      ]
    },
    {
      "cell_type": "code",
      "metadata": {
        "id": "0khpMFyoJKde",
        "colab_type": "code",
        "colab": {},
        "outputId": "42bc8f15-8a5e-4d9d-f161-50ae7a5e822b"
      },
      "source": [
        "sorted(isc.PV_PROP_RANGES.items(),key=lambda x:x[1][0])"
      ],
      "execution_count": null,
      "outputs": [
        {
          "output_type": "execute_result",
          "data": {
            "text/plain": [
              "[('basic_type', [0, 6]),\n",
              " ('vowel_length', [6, 8]),\n",
              " ('vowel_strength', [8, 11]),\n",
              " ('vowel_status', [11, 13]),\n",
              " ('consonant_type', [13, 18]),\n",
              " ('articulation_place', [18, 23]),\n",
              " ('aspiration', [23, 25]),\n",
              " ('voicing', [25, 27]),\n",
              " ('nasalization', [27, 29]),\n",
              " ('vowel_horizontal', [29, 32]),\n",
              " ('vowel_vertical', [32, 36]),\n",
              " ('vowel_roundness', [36, 38])]"
            ]
          },
          "metadata": {
            "tags": []
          },
          "execution_count": 30
        }
      ]
    },
    {
      "cell_type": "markdown",
      "metadata": {
        "id": "zz6WJlu5JKdl",
        "colab_type": "text"
      },
      "source": [
        "You can check the phonetic information database files in Indic NLP resources to know the definition of each of the bits. \n",
        "\n",
        "- _For Tamil Script_: [database](https://github.com/anoopkunchukuttan/indic_nlp_resources/blob/master/script/tamil_script_phonetic_data.csv) \n",
        "- _For other Indic Scripts_: [database](https://github.com/anoopkunchukuttan/indic_nlp_resources/blob/master/script/all_script_phonetic_data.csv)"
      ]
    },
    {
      "cell_type": "markdown",
      "metadata": {
        "id": "ZBWGC0ftJKdn",
        "colab_type": "text"
      },
      "source": [
        "### Query Phonetic Properties\n",
        "\n",
        "**Note:** _This interface below will be deprecated soon and a new interface will be available soon._"
      ]
    },
    {
      "cell_type": "code",
      "metadata": {
        "id": "idZZ-BA6JKdo",
        "colab_type": "code",
        "colab": {},
        "outputId": "89aaa62b-576d-4d7c-af75-cd5b4faeae8e"
      },
      "source": [
        "from indicnlp.langinfo import *\n",
        "\n",
        "c='क'\n",
        "lang='hi'\n",
        "\n",
        "print('Is vowel?:  {}'.format(is_vowel(c,lang)))\n",
        "print('Is consonant?:  {}'.format(is_consonant(c,lang)))\n",
        "print('Is velar?:  {}'.format(is_velar(c,lang)))\n",
        "print('Is palatal?:  {}'.format(is_palatal(c,lang)))\n",
        "print('Is aspirated?:  {}'.format(is_aspirated(c,lang)))\n",
        "print('Is unvoiced?:  {}'.format(is_unvoiced(c,lang)))\n",
        "print('Is nasal?:  {}'.format(is_nasal(c,lang)))"
      ],
      "execution_count": null,
      "outputs": [
        {
          "output_type": "stream",
          "text": [
            "Is vowel?:  False\n",
            "Is consonant?:  True\n",
            "Is velar?:  True\n",
            "Is palatal?:  False\n",
            "Is aspirated?:  False\n",
            "Is unvoiced?:  True\n",
            "Is nasal?:  False\n"
          ],
          "name": "stdout"
        }
      ]
    },
    {
      "cell_type": "markdown",
      "metadata": {
        "id": "Mh3U8n1HJKdu",
        "colab_type": "text"
      },
      "source": [
        "### Get Phonetic Similarity\n",
        "\n",
        "Using the phonetic feature vectors, we can define phonetic similarity between the characters (and underlying phonemes). The library implements some  measures for phonetic similarity between the characters (and underlying phonemes). These can be defined using the phonetic feature vectors discussed earlier, so users can implement additional similarity measures. \n",
        "\n",
        "The implemented similarity measures are: \n",
        "\n",
        "- cosine\n",
        "- dice\n",
        "- jaccard\n",
        "- dot_product\n",
        "- sim1 (Kunchukuttan _et al._, 2016)\n",
        "- softmax\n",
        "\n",
        "** References **\n",
        "\n",
        "Anoop Kunchukuttan, Pushpak Bhattacharyya, Mitesh Khapra. _Substring-based unsupervised transliteration with phonetic and contextual knowledge_. SIGNLL Conference on Computational Natural Language Learning ** (CoNLL 2016) **. 2016."
      ]
    },
    {
      "cell_type": "code",
      "metadata": {
        "id": "a-6dz-LyJKdv",
        "colab_type": "code",
        "colab": {},
        "outputId": "a60a2073-d3c8-4db9-b31b-10cafbdf8b64"
      },
      "source": [
        "#Get Phonetic Similarity\n",
        "from indicnlp.script import  indic_scripts as isc\n",
        "from indicnlp.script import  phonetic_sim as psim\n",
        "c1='क'\n",
        "c2='ख'\n",
        "c3='भ'\n",
        "lang='hi'\n",
        "print('Similarity between {} and {}'.format(c1,c2))\n",
        "print(psim.cosine(\n",
        "    isc.get_phonetic_feature_vector(c1,lang),\n",
        "    isc.get_phonetic_feature_vector(c2,lang)\n",
        "    ))\n",
        "print()\n",
        "print(u'Similarity between {} and {}'.format(c1,c3))\n",
        "print(psim.cosine(\n",
        "    isc.get_phonetic_feature_vector(c1,lang),\n",
        "    isc.get_phonetic_feature_vector(c3,lang)\n",
        "    ))"
      ],
      "execution_count": null,
      "outputs": [
        {
          "output_type": "stream",
          "text": [
            "Similarity between क and ख\n",
            "0.8333319444467593\n",
            "\n",
            "Similarity between क and भ\n",
            "0.4999991666680556\n"
          ],
          "name": "stdout"
        }
      ]
    },
    {
      "cell_type": "markdown",
      "metadata": {
        "id": "xrQ2XFlTJKd2",
        "colab_type": "text"
      },
      "source": [
        "_You may have figured out that you can also compute similarities of characters belonging to different scripts._\n",
        "\n",
        "You can also get a similarity matrix which contains the similarities between all pairs of characters (within the same script or across scripts).\n",
        "\n",
        "Let's see how we can compare the characters across Devanagari and Malayalam scripts"
      ]
    },
    {
      "cell_type": "code",
      "metadata": {
        "id": "4TwOOuKnJKd3",
        "colab_type": "code",
        "colab": {},
        "outputId": "488aa8b8-2c76-4e8d-bad9-a955eef568dc"
      },
      "source": [
        "from indicnlp.script import  indic_scripts as isc\n",
        "from indicnlp.script import  phonetic_sim as psim\n",
        "\n",
        "\n",
        "slang='hi'\n",
        "tlang='ml'\n",
        "sim_mat=psim.create_similarity_matrix(psim.cosine,slang,tlang,normalize=False)\n",
        "\n",
        "c1='क'\n",
        "c2='ഖ'\n",
        "print('Similarity between {} and {}'.format(c1,c2))\n",
        "print(sim_mat[isc.get_offset(c1,slang),isc.get_offset(c2,tlang)])"
      ],
      "execution_count": null,
      "outputs": [
        {
          "output_type": "stream",
          "text": [
            "Similarity between क and ഖ\n",
            "0.8333319444467593\n"
          ],
          "name": "stdout"
        }
      ]
    },
    {
      "cell_type": "markdown",
      "metadata": {
        "id": "XRtcrNEwJKd7",
        "colab_type": "text"
      },
      "source": [
        "Some similarity functions like `sim` do not generate values in the range [0,1] and it may be more convenient to have the similarity values in the range [0,1]. This can be achieved by setting the `normalize` paramter to `True`"
      ]
    },
    {
      "cell_type": "code",
      "metadata": {
        "id": "3c34biMeJKd8",
        "colab_type": "code",
        "colab": {},
        "outputId": "7c775455-7510-4cdc-d24f-65663fad11af"
      },
      "source": [
        "slang='hi'\n",
        "tlang='ml'\n",
        "sim_mat=psim.create_similarity_matrix(psim.sim1,slang,tlang,normalize=True)\n",
        "\n",
        "c1='क'\n",
        "c2='ഖ'\n",
        "print(u'Similarity between {} and {}'.format(c1,c2))\n",
        "print(sim_mat[isc.get_offset(c1,slang),isc.get_offset(c2,tlang)])"
      ],
      "execution_count": null,
      "outputs": [
        {
          "output_type": "stream",
          "text": [
            "Similarity between क and ഖ\n",
            "0.06860894001932027\n"
          ],
          "name": "stdout"
        }
      ]
    },
    {
      "cell_type": "markdown",
      "metadata": {
        "id": "UF9T2qnOJKeC",
        "colab_type": "text"
      },
      "source": [
        "### Lexical Similarity"
      ]
    },
    {
      "cell_type": "code",
      "metadata": {
        "id": "Z_8ndlmXJKeD",
        "colab_type": "code",
        "colab": {},
        "outputId": "fa6bbd6e-4e82-4329-e4e0-60dfc72fe37d"
      },
      "source": [
        "from indicnlp.script import  indic_scripts as isc\n",
        "from indicnlp.transliterate.unicode_transliterate import UnicodeIndicTransliterator\n",
        "\n",
        "lang1_str='पिछले दिनों हम लोगों ने कई उत्सव मनाये. कल, हिन्दुस्तान भर में श्री कृष्ण जन्म-महोत्सव मनाया गया.'\n",
        "lang2_str='વીતેલા દિવસોમાં આપણે કેટલાય ઉત્સવો ઉજવ્યા. હજી ગઇકાલે જ પૂરા હિંદુસ્તાનમાં શ્રીકૃષ્ણ જન્મોત્સવ ઉજવવામાં આવ્યો.'\n",
        "lang1='hi'\n",
        "lang2='gu'\n",
        "\n",
        "lcsr, len1, len2 = isc.lcsr_indic(lang1_str,lang2_str,lang1,lang2)\n",
        "\n",
        "print('{} string: {}'.format(lang1, lang1_str))\n",
        "print('{} string: {}'.format(lang2, UnicodeIndicTransliterator.transliterate(lang2_str,lang2,lang1)))\n",
        "print('Both strings are shown in Devanagari script using script conversion for readability.')\n",
        "print('LCSR: {}'.format(lcsr))\n"
      ],
      "execution_count": null,
      "outputs": [
        {
          "output_type": "stream",
          "text": [
            "hi string: पिछले दिनों हम लोगों ने कई उत्सव मनाये. कल, हिन्दुस्तान भर में श्री कृष्ण जन्म-महोत्सव मनाया गया.\n",
            "gu string: वीतेला दिवसोमां आपणे केटलाय उत्सवो उजव्या. हजी गइकाले ज पूरा हिंदुस्तानमां श्रीकृष्ण जन्मोत्सव उजववामां आव्यो.\n",
            "Both strings are shown in Devanagari script using script conversion for readability.\n",
            "LCSR: 0.5545454545454546\n"
          ],
          "name": "stdout"
        }
      ]
    },
    {
      "cell_type": "markdown",
      "metadata": {
        "id": "cH6IAcjSJKeN",
        "colab_type": "text"
      },
      "source": [
        "## Orthographic Syllabification\n",
        "\n",
        "_Orthographic Syllabification_ is an approximate syllabification process for Indic scripts, where CV+ units are defined to be _orthographic syllables_.\n",
        "\n",
        "See the following paper for details:\n",
        "\n",
        "Anoop Kunchukuttan, Pushpak Bhattacharyya. [_Orthographic Syllable as basic unit for SMT between Related Languages_](https://arxiv.org/abs/1610.00634). Conference on Empirical Methods in Natural Language Processing **(EMNLP 2016)**. 2016. "
      ]
    },
    {
      "cell_type": "code",
      "metadata": {
        "id": "nBGb1vZsJKeO",
        "colab_type": "code",
        "colab": {},
        "outputId": "56e9c886-78a3-4604-ca15-d627b7659907"
      },
      "source": [
        "from indicnlp.syllable import  syllabifier\n",
        "\n",
        "w='जगदीशचंद्र'\n",
        "lang='hi'\n",
        "\n",
        "print(' '.join(syllabifier.orthographic_syllabify(w,lang)))"
      ],
      "execution_count": null,
      "outputs": [
        {
          "output_type": "stream",
          "text": [
            "ज ग दी श च ंद्र\n"
          ],
          "name": "stdout"
        }
      ]
    },
    {
      "cell_type": "markdown",
      "metadata": {
        "id": "Zp1mSbTBJKeU",
        "colab_type": "text"
      },
      "source": [
        "## Word Segmentation\n",
        "\n",
        "Unsupervised morphological analysers for various Indian language. Given a word, the analyzer returns the componenent morphemes. \n",
        "The analyzer can recognize inflectional and derivational morphemes. \n",
        "\n",
        "The following languages are supported:\n",
        "\n",
        "_Hindi, Punjabi, Marathi, Konkani, Gujarati, Bengali, Kannada, Tamil, Telugu, Malayalam_\n",
        "\n",
        "Support for more languages will be added soon."
      ]
    },
    {
      "cell_type": "code",
      "metadata": {
        "id": "iY2cW_teJKeV",
        "colab_type": "code",
        "colab": {}
      },
      "source": [
        "from indicnlp.morph import unsupervised_morph \n",
        "from indicnlp import common\n",
        "\n",
        "analyzer=unsupervised_morph.UnsupervisedMorphAnalyzer('mr')"
      ],
      "execution_count": null,
      "outputs": []
    },
    {
      "cell_type": "code",
      "metadata": {
        "id": "FCIiYMi0JKea",
        "colab_type": "code",
        "colab": {},
        "outputId": "a5cd44f7-dd34-44fa-b88b-0ac5506110dc"
      },
      "source": [
        "indic_string='आपल्या हिरड्यांच्या आणि दातांच्यामध्ये जीवाणू असतात .'\n",
        "\n",
        "analyzes_tokens=analyzer.morph_analyze_document(indic_string.split(' '))\n",
        "\n",
        "for w in analyzes_tokens: \n",
        "    print(w)"
      ],
      "execution_count": null,
      "outputs": [
        {
          "output_type": "stream",
          "text": [
            "आपल्या\n",
            "हिरड्या\n",
            "ंच्या\n",
            "आणि\n",
            "दाता\n",
            "ंच्या\n",
            "मध्ये\n",
            "जीवाणू\n",
            "असतात\n",
            ".\n"
          ],
          "name": "stdout"
        }
      ]
    },
    {
      "cell_type": "markdown",
      "metadata": {
        "id": "b5XMaqtZJKef",
        "colab_type": "text"
      },
      "source": [
        "## Transliteration"
      ]
    },
    {
      "cell_type": "markdown",
      "metadata": {
        "id": "FWYOXf6uJKeg",
        "colab_type": "text"
      },
      "source": [
        "We use the [_BrahmiNet_](http://www.cfilt.iitb.ac.in/brahminet/static/rest.html) REST API for transliteration."
      ]
    },
    {
      "cell_type": "code",
      "metadata": {
        "id": "WtGrr335JKeh",
        "colab_type": "code",
        "colab": {},
        "outputId": "9d750591-22e1-471f-e6f7-f6ca7b631e55"
      },
      "source": [
        "import json\n",
        "import requests\n",
        "from urllib.parse import  quote\n",
        "\n",
        "text=quote('manish joe')\n",
        "# text=quote('मनिश् जोए')\n",
        "url='http://www.cfilt.iitb.ac.in/indicnlpweb/indicnlpws/transliterate_bulk/en/hi/{}/statistical'.format(text)\n",
        "print(url)\n",
        "response = requests.get(url)\n",
        "response.json()"
      ],
      "execution_count": null,
      "outputs": [
        {
          "output_type": "stream",
          "text": [
            "http://www.cfilt.iitb.ac.in/indicnlpweb/indicnlpws/transliterate_bulk/en/hi/manish%20joe/rule\n"
          ],
          "name": "stdout"
        },
        {
          "output_type": "execute_result",
          "data": {
            "text/plain": [
              "{'hi': ['मनिश् जोए']}"
            ]
          },
          "metadata": {
            "tags": []
          },
          "execution_count": 11
        }
      ]
    },
    {
      "cell_type": "markdown",
      "metadata": {
        "id": "qsH0yBzXJKel",
        "colab_type": "text"
      },
      "source": [
        "You can also use _BrahmiNet_ through [this](http://www.cfilt.iitb.ac.in/brahminet) web interface.  \n",
        "\n",
        "You can read more about _BrahmiNet_ [here](http://www.cfilt.iitb.ac.in/brahminet/static/publications/brahminet_naacl2015.pdf)"
      ]
    },
    {
      "cell_type": "markdown",
      "metadata": {
        "id": "iJDaNdXAJKem",
        "colab_type": "text"
      },
      "source": [
        "### Acronyms\n",
        "\n",
        "Acronyms have a different behaviour while transliterating. Hence, a rule-based transliterator for transliterating English acronyms to Indian languages is available. \n",
        "\n",
        "This can also be used to generate synthetic transliteration data to train a Indian language to English transliterator for acronyms."
      ]
    },
    {
      "cell_type": "code",
      "metadata": {
        "id": "290qGXzdJKep",
        "colab_type": "code",
        "colab": {},
        "outputId": "1eaba4cf-ff86-46a7-a135-e2bc56ea29b8"
      },
      "source": [
        "from indicnlp.transliterate import acronym_transliterator\n",
        "\n",
        "ack_transliterator=acronym_transliterator.LatinToIndicAcronymTransliterator()\n",
        "ack_transliterator.transliterate('ICICI',lang='hi')"
      ],
      "execution_count": null,
      "outputs": [
        {
          "output_type": "execute_result",
          "data": {
            "text/plain": [
              "'आईसीआईसीआई'"
            ]
          },
          "metadata": {
            "tags": []
          },
          "execution_count": 18
        }
      ]
    },
    {
      "cell_type": "markdown",
      "metadata": {
        "id": "gAZEcBHBJKes",
        "colab_type": "text"
      },
      "source": [
        "## Machine Translation"
      ]
    },
    {
      "cell_type": "markdown",
      "metadata": {
        "id": "PEEBJaqRJKet",
        "colab_type": "text"
      },
      "source": [
        "We use the [_Shata-anuvaadak_](http://www.cfmilt.iitb.ac.in/indic-translator) for translation.\n",
        "You can read more about _Shata-anuvaadak_ [here](http://www.lrec-conf.org/proceedings/lrec2014/pdf/414_Paper.pdf)"
      ]
    },
    {
      "cell_type": "code",
      "metadata": {
        "id": "15XQzzfOJKeu",
        "colab_type": "code",
        "colab": {},
        "outputId": "4cadd695-a4c2-45fc-c17d-05f7f9cc0275"
      },
      "source": [
        "import json\n",
        "import requests\n",
        "from urllib.parse import  quote\n",
        "\n",
        "text=quote('Mumbai is the capital of Maharashtra')\n",
        "# text=quote('मनिश् जोए')\n",
        "url='http://www.cfilt.iitb.ac.in/indicnlpweb/indicnlpws/translate/en/mr/{}/'.format(text)\n",
        "## Note the forward slash '/' at the end of the URL. It's should be there, but please live with it for now!\n",
        "\n",
        "print(url)\n",
        "response = requests.get(url)\n",
        "response.json()"
      ],
      "execution_count": null,
      "outputs": [
        {
          "output_type": "stream",
          "text": [
            "http://www.cfilt.iitb.ac.in/indicnlpweb/indicnlpws/translate/en/mr/Mumbai%20is%20the%20capital%20of%20Maharashtra/\n"
          ],
          "name": "stdout"
        },
        {
          "output_type": "execute_result",
          "data": {
            "text/plain": [
              "{'mr': 'राजधानी महाराष्ट्र मुंबई आहे . '}"
            ]
          },
          "metadata": {
            "tags": []
          },
          "execution_count": 31
        }
      ]
    },
    {
      "cell_type": "code",
      "metadata": {
        "id": "TqedrVCKJKey",
        "colab_type": "code",
        "colab": {}
      },
      "source": [
        ""
      ],
      "execution_count": null,
      "outputs": []
    }
  ]
}