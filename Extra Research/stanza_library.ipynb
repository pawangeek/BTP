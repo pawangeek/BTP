{
  "nbformat": 4,
  "nbformat_minor": 0,
  "metadata": {
    "colab": {
      "name": "stanza_library.ipynb",
      "provenance": []
    },
    "kernelspec": {
      "name": "python3",
      "display_name": "Python 3"
    }
  },
  "cells": [
    {
      "cell_type": "code",
      "metadata": {
        "id": "xjTeDQOeeKCN",
        "colab_type": "code",
        "colab": {
          "base_uri": "https://localhost:8080/",
          "height": 328
        },
        "outputId": "0a31459b-4303-49c7-d45e-bc3cfc887c66"
      },
      "source": [
        "pip install stanza"
      ],
      "execution_count": null,
      "outputs": [
        {
          "output_type": "stream",
          "text": [
            "Collecting stanza\n",
            "\u001b[?25l  Downloading https://files.pythonhosted.org/packages/11/98/a118044151c5f84709d6db43e0344205b42bca316ca89a2fa838987ab698/stanza-1.0.0-py3-none-any.whl (189kB)\n",
            "\r\u001b[K     |█▊                              | 10kB 16.8MB/s eta 0:00:01\r\u001b[K     |███▌                            | 20kB 1.8MB/s eta 0:00:01\r\u001b[K     |█████▏                          | 30kB 2.3MB/s eta 0:00:01\r\u001b[K     |███████                         | 40kB 1.7MB/s eta 0:00:01\r\u001b[K     |████████▋                       | 51kB 1.9MB/s eta 0:00:01\r\u001b[K     |██████████▍                     | 61kB 2.3MB/s eta 0:00:01\r\u001b[K     |████████████                    | 71kB 2.5MB/s eta 0:00:01\r\u001b[K     |█████████████▉                  | 81kB 2.7MB/s eta 0:00:01\r\u001b[K     |███████████████▌                | 92kB 3.0MB/s eta 0:00:01\r\u001b[K     |█████████████████▎              | 102kB 2.9MB/s eta 0:00:01\r\u001b[K     |███████████████████             | 112kB 2.9MB/s eta 0:00:01\r\u001b[K     |████████████████████▊           | 122kB 2.9MB/s eta 0:00:01\r\u001b[K     |██████████████████████▍         | 133kB 2.9MB/s eta 0:00:01\r\u001b[K     |████████████████████████▏       | 143kB 2.9MB/s eta 0:00:01\r\u001b[K     |██████████████████████████      | 153kB 2.9MB/s eta 0:00:01\r\u001b[K     |███████████████████████████▋    | 163kB 2.9MB/s eta 0:00:01\r\u001b[K     |█████████████████████████████▍  | 174kB 2.9MB/s eta 0:00:01\r\u001b[K     |███████████████████████████████ | 184kB 2.9MB/s eta 0:00:01\r\u001b[K     |████████████████████████████████| 194kB 2.9MB/s \n",
            "\u001b[?25hRequirement already satisfied: protobuf in /usr/local/lib/python3.6/dist-packages (from stanza) (3.10.0)\n",
            "Requirement already satisfied: requests in /usr/local/lib/python3.6/dist-packages (from stanza) (2.21.0)\n",
            "Requirement already satisfied: tqdm in /usr/local/lib/python3.6/dist-packages (from stanza) (4.38.0)\n",
            "Requirement already satisfied: torch>=1.2.0 in /usr/local/lib/python3.6/dist-packages (from stanza) (1.4.0)\n",
            "Requirement already satisfied: numpy in /usr/local/lib/python3.6/dist-packages (from stanza) (1.18.2)\n",
            "Requirement already satisfied: six>=1.9 in /usr/local/lib/python3.6/dist-packages (from protobuf->stanza) (1.12.0)\n",
            "Requirement already satisfied: setuptools in /usr/local/lib/python3.6/dist-packages (from protobuf->stanza) (46.0.0)\n",
            "Requirement already satisfied: chardet<3.1.0,>=3.0.2 in /usr/local/lib/python3.6/dist-packages (from requests->stanza) (3.0.4)\n",
            "Requirement already satisfied: certifi>=2017.4.17 in /usr/local/lib/python3.6/dist-packages (from requests->stanza) (2019.11.28)\n",
            "Requirement already satisfied: idna<2.9,>=2.5 in /usr/local/lib/python3.6/dist-packages (from requests->stanza) (2.8)\n",
            "Requirement already satisfied: urllib3<1.25,>=1.21.1 in /usr/local/lib/python3.6/dist-packages (from requests->stanza) (1.24.3)\n",
            "Installing collected packages: stanza\n",
            "Successfully installed stanza-1.0.0\n"
          ],
          "name": "stdout"
        }
      ]
    },
    {
      "cell_type": "code",
      "metadata": {
        "id": "rn91cGhxeNqa",
        "colab_type": "code",
        "colab": {}
      },
      "source": [
        "import stanza"
      ],
      "execution_count": null,
      "outputs": []
    },
    {
      "cell_type": "code",
      "metadata": {
        "id": "LIQ1CgHdecuK",
        "colab_type": "code",
        "colab": {
          "base_uri": "https://localhost:8080/",
          "height": 90
        },
        "outputId": "594dfe94-4f6f-4622-d358-1aca350c0ec7"
      },
      "source": [
        "stanza.download('en')"
      ],
      "execution_count": null,
      "outputs": [
        {
          "output_type": "stream",
          "text": [
            "Downloading https://raw.githubusercontent.com/stanfordnlp/stanza-resources/master/resources_1.0.0.json: 116kB [00:00, 21.9MB/s]                    \n",
            "2020-03-21 19:02:55 INFO: Downloading default packages for language: en (English)...\n",
            "Downloading http://nlp.stanford.edu/software/stanza/1.0.0/en/default.zip: 100%|██████████| 402M/402M [00:11<00:00, 33.6MB/s]\n",
            "2020-03-21 19:03:15 INFO: Finished downloading models and saved to /root/stanza_resources.\n"
          ],
          "name": "stderr"
        }
      ]
    },
    {
      "cell_type": "code",
      "metadata": {
        "id": "vNmR3ofkegZt",
        "colab_type": "code",
        "colab": {
          "base_uri": "https://localhost:8080/",
          "height": 345
        },
        "outputId": "cb48aeaf-7e1f-43be-f5b9-ecdd6bd3cba5"
      },
      "source": [
        "nlp=stanza.Pipeline('en')"
      ],
      "execution_count": null,
      "outputs": [
        {
          "output_type": "stream",
          "text": [
            "2020-03-21 19:05:41 INFO: Loading these models for language: en (English):\n",
            "=========================\n",
            "| Processor | Package   |\n",
            "-------------------------\n",
            "| tokenize  | ewt       |\n",
            "| pos       | ewt       |\n",
            "| lemma     | ewt       |\n",
            "| depparse  | ewt       |\n",
            "| ner       | ontonotes |\n",
            "=========================\n",
            "\n",
            "2020-03-21 19:05:41 INFO: Use device: cpu\n",
            "2020-03-21 19:05:41 INFO: Loading: tokenize\n",
            "2020-03-21 19:05:41 INFO: Loading: pos\n",
            "2020-03-21 19:05:42 INFO: Loading: lemma\n",
            "2020-03-21 19:05:42 INFO: Loading: depparse\n",
            "2020-03-21 19:05:44 INFO: Loading: ner\n",
            "2020-03-21 19:05:44 INFO: Done loading processors!\n"
          ],
          "name": "stderr"
        }
      ]
    },
    {
      "cell_type": "code",
      "metadata": {
        "id": "IRr8QE0HfFlZ",
        "colab_type": "code",
        "colab": {}
      },
      "source": [
        "doc = nlp(\"Barack Obama was born in Hawaii.\")"
      ],
      "execution_count": null,
      "outputs": []
    },
    {
      "cell_type": "code",
      "metadata": {
        "id": "2D6MdLejfJWQ",
        "colab_type": "code",
        "colab": {
          "base_uri": "https://localhost:8080/",
          "height": 1000
        },
        "outputId": "95a92a6e-419a-480a-b92f-f40451cafe88"
      },
      "source": [
        "print(doc)"
      ],
      "execution_count": null,
      "outputs": [
        {
          "output_type": "stream",
          "text": [
            "[\n",
            "  [\n",
            "    {\n",
            "      \"id\": \"1\",\n",
            "      \"text\": \"Barack\",\n",
            "      \"lemma\": \"Barack\",\n",
            "      \"upos\": \"PROPN\",\n",
            "      \"xpos\": \"NNP\",\n",
            "      \"feats\": \"Number=Sing\",\n",
            "      \"head\": 4,\n",
            "      \"deprel\": \"nsubj:pass\",\n",
            "      \"misc\": \"start_char=0|end_char=6\"\n",
            "    },\n",
            "    {\n",
            "      \"id\": \"2\",\n",
            "      \"text\": \"Obama\",\n",
            "      \"lemma\": \"Obama\",\n",
            "      \"upos\": \"PROPN\",\n",
            "      \"xpos\": \"NNP\",\n",
            "      \"feats\": \"Number=Sing\",\n",
            "      \"head\": 1,\n",
            "      \"deprel\": \"flat\",\n",
            "      \"misc\": \"start_char=7|end_char=12\"\n",
            "    },\n",
            "    {\n",
            "      \"id\": \"3\",\n",
            "      \"text\": \"was\",\n",
            "      \"lemma\": \"be\",\n",
            "      \"upos\": \"AUX\",\n",
            "      \"xpos\": \"VBD\",\n",
            "      \"feats\": \"Mood=Ind|Number=Sing|Person=3|Tense=Past|VerbForm=Fin\",\n",
            "      \"head\": 4,\n",
            "      \"deprel\": \"aux:pass\",\n",
            "      \"misc\": \"start_char=13|end_char=16\"\n",
            "    },\n",
            "    {\n",
            "      \"id\": \"4\",\n",
            "      \"text\": \"born\",\n",
            "      \"lemma\": \"bear\",\n",
            "      \"upos\": \"VERB\",\n",
            "      \"xpos\": \"VBN\",\n",
            "      \"feats\": \"Tense=Past|VerbForm=Part|Voice=Pass\",\n",
            "      \"head\": 0,\n",
            "      \"deprel\": \"root\",\n",
            "      \"misc\": \"start_char=17|end_char=21\"\n",
            "    },\n",
            "    {\n",
            "      \"id\": \"5\",\n",
            "      \"text\": \"in\",\n",
            "      \"lemma\": \"in\",\n",
            "      \"upos\": \"ADP\",\n",
            "      \"xpos\": \"IN\",\n",
            "      \"head\": 6,\n",
            "      \"deprel\": \"case\",\n",
            "      \"misc\": \"start_char=22|end_char=24\"\n",
            "    },\n",
            "    {\n",
            "      \"id\": \"6\",\n",
            "      \"text\": \"Hawaii\",\n",
            "      \"lemma\": \"Hawaii\",\n",
            "      \"upos\": \"PROPN\",\n",
            "      \"xpos\": \"NNP\",\n",
            "      \"feats\": \"Number=Sing\",\n",
            "      \"head\": 4,\n",
            "      \"deprel\": \"obl\",\n",
            "      \"misc\": \"start_char=25|end_char=31\"\n",
            "    },\n",
            "    {\n",
            "      \"id\": \"7\",\n",
            "      \"text\": \".\",\n",
            "      \"lemma\": \".\",\n",
            "      \"upos\": \"PUNCT\",\n",
            "      \"xpos\": \".\",\n",
            "      \"head\": 4,\n",
            "      \"deprel\": \"punct\",\n",
            "      \"misc\": \"start_char=31|end_char=32\"\n",
            "    }\n",
            "  ]\n",
            "]\n"
          ],
          "name": "stdout"
        }
      ]
    },
    {
      "cell_type": "code",
      "metadata": {
        "id": "4ph7sqmgl9Ag",
        "colab_type": "code",
        "colab": {
          "base_uri": "https://localhost:8080/",
          "height": 35
        },
        "outputId": "6ea0d052-ff34-44b6-f485-b96e14f1c306"
      },
      "source": [
        "print(type(doc))"
      ],
      "execution_count": null,
      "outputs": [
        {
          "output_type": "stream",
          "text": [
            "<class 'stanza.models.common.doc.Document'>\n"
          ],
          "name": "stdout"
        }
      ]
    },
    {
      "cell_type": "code",
      "metadata": {
        "id": "XHjaMr5lfYSy",
        "colab_type": "code",
        "colab": {
          "base_uri": "https://localhost:8080/",
          "height": 217
        },
        "outputId": "275d4262-3d1f-4ee0-e669-36feb87bbdfe"
      },
      "source": [
        "print(doc.entities)"
      ],
      "execution_count": null,
      "outputs": [
        {
          "output_type": "stream",
          "text": [
            "[{\n",
            "  \"text\": \"Barack Obama\",\n",
            "  \"type\": \"PERSON\",\n",
            "  \"start_char\": 0,\n",
            "  \"end_char\": 12\n",
            "}, {\n",
            "  \"text\": \"Hawaii\",\n",
            "  \"type\": \"GPE\",\n",
            "  \"start_char\": 25,\n",
            "  \"end_char\": 31\n",
            "}]\n"
          ],
          "name": "stdout"
        }
      ]
    },
    {
      "cell_type": "code",
      "metadata": {
        "id": "XJhG_pERmX5U",
        "colab_type": "code",
        "colab": {
          "base_uri": "https://localhost:8080/",
          "height": 181
        },
        "outputId": "d80cd312-3e26-4ef1-f228-1f22826d1e4c"
      },
      "source": [
        "for i, sent in enumerate(doc.sentences):\n",
        "    print(\"[Sentence {}]\".format(i+1))\n",
        "    for word in sent.words:\n",
        "        print(\"{:12s}\\t{:12s}\\t{:6s}\\t{:d}\\t{:12s}\".format(\\\n",
        "              word.text, word.lemma, word.pos, word.head, word.deprel))\n",
        "    print(\"\")"
      ],
      "execution_count": null,
      "outputs": [
        {
          "output_type": "stream",
          "text": [
            "[Sentence 1]\n",
            "Barack      \tBarack      \tPROPN \t4\tnsubj:pass  \n",
            "Obama       \tObama       \tPROPN \t1\tflat        \n",
            "was         \tbe          \tAUX   \t4\taux:pass    \n",
            "born        \tbear        \tVERB  \t0\troot        \n",
            "in          \tin          \tADP   \t6\tcase        \n",
            "Hawaii      \tHawaii      \tPROPN \t4\tobl         \n",
            ".           \t.           \tPUNCT \t4\tpunct       \n",
            "\n"
          ],
          "name": "stdout"
        }
      ]
    },
    {
      "cell_type": "code",
      "metadata": {
        "id": "p1Wcwurjnkcm",
        "colab_type": "code",
        "colab": {
          "base_uri": "https://localhost:8080/",
          "height": 72
        },
        "outputId": "0463c52b-a8b1-4b70-f97f-b1d2af1ef45d"
      },
      "source": [
        "print(\"Mention text\\tType\\tStart-End\")\n",
        "for ent in doc.ents:\n",
        "    print(\"{}\\t{}\\t{}-{}\".format(ent.text, ent.type, ent.start_char, ent.end_char))"
      ],
      "execution_count": null,
      "outputs": [
        {
          "output_type": "stream",
          "text": [
            "Mention text\tType\tStart-End\n",
            "Barack Obama\tPERSON\t0-12\n",
            "Hawaii\tGPE\t25-31\n"
          ],
          "name": "stdout"
        }
      ]
    },
    {
      "cell_type": "code",
      "metadata": {
        "id": "9YDM2GzxoIB9",
        "colab_type": "code",
        "colab": {
          "base_uri": "https://localhost:8080/",
          "height": 217
        },
        "outputId": "35cccfb6-f8a6-4abb-b49a-418e7780cfd3"
      },
      "source": [
        "word = doc.sentences[0].words[0]\n",
        "print(word)"
      ],
      "execution_count": null,
      "outputs": [
        {
          "output_type": "stream",
          "text": [
            "{\n",
            "  \"id\": \"1\",\n",
            "  \"text\": \"Barack\",\n",
            "  \"lemma\": \"Barack\",\n",
            "  \"upos\": \"PROPN\",\n",
            "  \"xpos\": \"NNP\",\n",
            "  \"feats\": \"Number=Sing\",\n",
            "  \"head\": 4,\n",
            "  \"deprel\": \"nsubj:pass\",\n",
            "  \"misc\": \"start_char=0|end_char=6\"\n",
            "}\n"
          ],
          "name": "stdout"
        }
      ]
    },
    {
      "cell_type": "code",
      "metadata": {
        "id": "hGADqs1Bhimh",
        "colab_type": "code",
        "colab": {
          "base_uri": "https://localhost:8080/",
          "height": 90
        },
        "outputId": "aa7e3aa3-ba89-475a-f356-a1c38e6c88e1"
      },
      "source": [
        "stanza.download('hi')"
      ],
      "execution_count": null,
      "outputs": [
        {
          "output_type": "stream",
          "text": [
            "Downloading https://raw.githubusercontent.com/stanfordnlp/stanza-resources/master/resources_1.0.0.json: 116kB [00:00, 9.90MB/s]                    \n",
            "2020-03-21 19:19:58 INFO: Downloading default packages for language: hi (Hindi)...\n",
            "Downloading http://nlp.stanford.edu/software/stanza/1.0.0/hi/default.zip: 100%|██████████| 208M/208M [00:07<00:00, 26.5MB/s]\n",
            "2020-03-21 19:20:10 INFO: Finished downloading models and saved to /root/stanza_resources.\n"
          ],
          "name": "stderr"
        }
      ]
    },
    {
      "cell_type": "code",
      "metadata": {
        "id": "Gl2jW0j-iZ8D",
        "colab_type": "code",
        "colab": {
          "base_uri": "https://localhost:8080/",
          "height": 308
        },
        "outputId": "4eedbda8-57ec-4081-d965-e43b48509e82"
      },
      "source": [
        "nlp_hindi=stanza.Pipeline('hi') "
      ],
      "execution_count": null,
      "outputs": [
        {
          "output_type": "stream",
          "text": [
            "2020-03-21 19:20:51 INFO: Loading these models for language: hi (Hindi):\n",
            "=======================\n",
            "| Processor | Package |\n",
            "-----------------------\n",
            "| tokenize  | hdtb    |\n",
            "| pos       | hdtb    |\n",
            "| lemma     | hdtb    |\n",
            "| depparse  | hdtb    |\n",
            "=======================\n",
            "\n",
            "2020-03-21 19:20:51 INFO: Use device: cpu\n",
            "2020-03-21 19:20:51 INFO: Loading: tokenize\n",
            "2020-03-21 19:20:51 INFO: Loading: pos\n",
            "2020-03-21 19:20:52 INFO: Loading: lemma\n",
            "2020-03-21 19:20:52 INFO: Loading: depparse\n",
            "2020-03-21 19:20:54 INFO: Done loading processors!\n"
          ],
          "name": "stderr"
        }
      ]
    },
    {
      "cell_type": "code",
      "metadata": {
        "id": "AG78Fr44F8Gr",
        "colab_type": "code",
        "colab": {}
      },
      "source": [
        "nlp_hindi=stanza.Pipeline('hi') \n",
        "doc_hindi=nlp_hindi('वर्तमान में हमारे देश के प्रधानमंत्री श्री नरेन्द्र मोदी है।')\n",
        "print(doc_hindi)"
      ],
      "execution_count": null,
      "outputs": []
    },
    {
      "cell_type": "code",
      "metadata": {
        "id": "o2KN42P6inJa",
        "colab_type": "code",
        "colab": {}
      },
      "source": [
        "doc_hindi=nlp_hindi('वर्तमान में हमारे देश के प्रधानमंत्री श्री नरेन्द्र मोदी है।')"
      ],
      "execution_count": null,
      "outputs": []
    },
    {
      "cell_type": "code",
      "metadata": {
        "id": "9JreS9Zmi9W3",
        "colab_type": "code",
        "colab": {}
      },
      "source": [
        "nlp_hindi=stanza.Pipeline('hi') \n",
        "doc_hindi=nlp_hindi('वर्तमान में हमारे देश के प्रधानमंत्री श्री नरेन्द्र मोदी है।')\n",
        "print(doc_hindi)"
      ],
      "execution_count": null,
      "outputs": []
    },
    {
      "cell_type": "code",
      "metadata": {
        "id": "FDYeUas_jAHm",
        "colab_type": "code",
        "colab": {
          "base_uri": "https://localhost:8080/",
          "height": 35
        },
        "outputId": "31a5d0b1-c690-4eef-c22f-d73994063330"
      },
      "source": [
        "print(doc_hindi.entities)"
      ],
      "execution_count": null,
      "outputs": [
        {
          "output_type": "stream",
          "text": [
            "[]\n"
          ],
          "name": "stdout"
        }
      ]
    },
    {
      "cell_type": "code",
      "metadata": {
        "id": "kXrnYuHYjDBs",
        "colab_type": "code",
        "colab": {
          "base_uri": "https://localhost:8080/",
          "height": 254
        },
        "outputId": "4f36a661-8e97-4df8-c0ef-37bee8fb9ad5"
      },
      "source": [
        "for i, sent in enumerate(doc_hindi.sentences):\n",
        "    print(\"[Sentence {}]\".format(i+1))\n",
        "    for word in sent.words:\n",
        "        print(\"{:12s}\\t{:12s}\\t{:6s}\\t{:d}\\t{:12s}\".format(\\\n",
        "              word.text, word.lemma, word.pos, word.head, word.deprel))\n",
        "    print(\"\")"
      ],
      "execution_count": null,
      "outputs": [
        {
          "output_type": "stream",
          "text": [
            "[Sentence 1]\n",
            "वर्तमान     \tवर्तमान     \tNOUN  \t9\tnmod        \n",
            "में         \tमें         \tADP   \t1\tcase        \n",
            "हमारे       \tहम          \tPRON  \t4\tnmod        \n",
            "देश         \tदेश         \tNOUN  \t6\tnmod        \n",
            "के          \tका          \tADP   \t4\tcase        \n",
            "प्रधानमंत्री\tप्रधानमंत्री\tPROPN \t9\tnmod        \n",
            "श्री        \tश्री        \tPROPN \t9\tcompound    \n",
            "नरेन्द्र    \tनरेंद्र     \tPROPN \t9\tcompound    \n",
            "मोदी        \tमोदी        \tPROPN \t0\troot        \n",
            "है          \tहै          \tAUX   \t9\tcop         \n",
            "।           \t।           \tPUNCT \t9\tpunct       \n",
            "\n"
          ],
          "name": "stdout"
        }
      ]
    },
    {
      "cell_type": "code",
      "metadata": {
        "id": "eHwHazHom9KS",
        "colab_type": "code",
        "colab": {
          "base_uri": "https://localhost:8080/",
          "height": 35
        },
        "outputId": "716a96ef-9b08-466d-ed83-3ec4aa8656cf"
      },
      "source": [
        "print(\"Mention text\\tType\\tStart-End\")\n",
        "for ent in doc_hindi.ents:\n",
        "    print(\"{}\\t{}\\t{}-{}\".format(ent.text, ent.type, ent.start_char, ent.end_char))"
      ],
      "execution_count": null,
      "outputs": [
        {
          "output_type": "stream",
          "text": [
            "Mention text\tType\tStart-End\n"
          ],
          "name": "stdout"
        }
      ]
    },
    {
      "cell_type": "code",
      "metadata": {
        "id": "AAaTYT-nnr2l",
        "colab_type": "code",
        "colab": {
          "base_uri": "https://localhost:8080/",
          "height": 217
        },
        "outputId": "2015d1ee-98ee-4a1d-9b23-25cbb9d3e6a0"
      },
      "source": [
        "word = doc_hindi.sentences[0].words[7]\n",
        "print(word)"
      ],
      "execution_count": null,
      "outputs": [
        {
          "output_type": "stream",
          "text": [
            "{\n",
            "  \"id\": \"8\",\n",
            "  \"text\": \"नरेन्द्र\",\n",
            "  \"lemma\": \"नरेंद्र\",\n",
            "  \"upos\": \"PROPN\",\n",
            "  \"xpos\": \"NNPC\",\n",
            "  \"feats\": \"Case=Nom|Gender=Masc|Number=Sing|Person=3\",\n",
            "  \"head\": 9,\n",
            "  \"deprel\": \"compound\",\n",
            "  \"misc\": \"start_char=43|end_char=51\"\n",
            "}\n"
          ],
          "name": "stdout"
        }
      ]
    },
    {
      "cell_type": "code",
      "metadata": {
        "id": "ocvRijqFoUYO",
        "colab_type": "code",
        "colab": {
          "base_uri": "https://localhost:8080/",
          "height": 35
        },
        "outputId": "a825a43c-4715-4bf6-8fd5-1eebc4ab1bcb"
      },
      "source": [
        "print(doc_hindi.num_words)"
      ],
      "execution_count": null,
      "outputs": [
        {
          "output_type": "stream",
          "text": [
            "11\n"
          ],
          "name": "stdout"
        }
      ]
    },
    {
      "cell_type": "code",
      "metadata": {
        "id": "BwbaVVQKq09i",
        "colab_type": "code",
        "colab": {
          "base_uri": "https://localhost:8080/",
          "height": 1000
        },
        "outputId": "fa3222fd-5532-4b76-ad01-50485fe42015"
      },
      "source": [
        "(doc_hindi.sentences)[0].print_dependencies"
      ],
      "execution_count": null,
      "outputs": [
        {
          "output_type": "execute_result",
          "data": {
            "text/plain": [
              "<bound method Sentence.print_dependencies of [\n",
              "  {\n",
              "    \"id\": \"1\",\n",
              "    \"text\": \"वर्तमान\",\n",
              "    \"lemma\": \"वर्तमान\",\n",
              "    \"upos\": \"NOUN\",\n",
              "    \"xpos\": \"NN\",\n",
              "    \"feats\": \"Case=Acc|Gender=Masc|Number=Sing|Person=3\",\n",
              "    \"head\": 9,\n",
              "    \"deprel\": \"nmod\",\n",
              "    \"misc\": \"start_char=0|end_char=7\"\n",
              "  },\n",
              "  {\n",
              "    \"id\": \"2\",\n",
              "    \"text\": \"में\",\n",
              "    \"lemma\": \"में\",\n",
              "    \"upos\": \"ADP\",\n",
              "    \"xpos\": \"PSP\",\n",
              "    \"feats\": \"AdpType=Post\",\n",
              "    \"head\": 1,\n",
              "    \"deprel\": \"case\",\n",
              "    \"misc\": \"start_char=8|end_char=11\"\n",
              "  },\n",
              "  {\n",
              "    \"id\": \"3\",\n",
              "    \"text\": \"हमारे\",\n",
              "    \"lemma\": \"हम\",\n",
              "    \"upos\": \"PRON\",\n",
              "    \"xpos\": \"PRP\",\n",
              "    \"feats\": \"Case=Acc,Gen|Gender=Masc|Number=Plur|Person=1|Poss=Yes|PronType=Prs\",\n",
              "    \"head\": 4,\n",
              "    \"deprel\": \"nmod\",\n",
              "    \"misc\": \"start_char=12|end_char=17\"\n",
              "  },\n",
              "  {\n",
              "    \"id\": \"4\",\n",
              "    \"text\": \"देश\",\n",
              "    \"lemma\": \"देश\",\n",
              "    \"upos\": \"NOUN\",\n",
              "    \"xpos\": \"NN\",\n",
              "    \"feats\": \"Case=Acc|Gender=Masc|Number=Sing|Person=3\",\n",
              "    \"head\": 6,\n",
              "    \"deprel\": \"nmod\",\n",
              "    \"misc\": \"start_char=18|end_char=21\"\n",
              "  },\n",
              "  {\n",
              "    \"id\": \"5\",\n",
              "    \"text\": \"के\",\n",
              "    \"lemma\": \"का\",\n",
              "    \"upos\": \"ADP\",\n",
              "    \"xpos\": \"PSP\",\n",
              "    \"feats\": \"AdpType=Post|Case=Nom|Gender=Masc|Number=Sing|Person=3|Polite=Form\",\n",
              "    \"head\": 4,\n",
              "    \"deprel\": \"case\",\n",
              "    \"misc\": \"start_char=22|end_char=24\"\n",
              "  },\n",
              "  {\n",
              "    \"id\": \"6\",\n",
              "    \"text\": \"प्रधानमंत्री\",\n",
              "    \"lemma\": \"प्रधानमंत्री\",\n",
              "    \"upos\": \"PROPN\",\n",
              "    \"xpos\": \"NNP\",\n",
              "    \"feats\": \"Case=Nom|Gender=Masc|Number=Sing|Person=3\",\n",
              "    \"head\": 9,\n",
              "    \"deprel\": \"nmod\",\n",
              "    \"misc\": \"start_char=25|end_char=37\"\n",
              "  },\n",
              "  {\n",
              "    \"id\": \"7\",\n",
              "    \"text\": \"श्री\",\n",
              "    \"lemma\": \"श्री\",\n",
              "    \"upos\": \"PROPN\",\n",
              "    \"xpos\": \"NNPC\",\n",
              "    \"feats\": \"Case=Nom|Gender=Masc|Number=Sing|Person=3\",\n",
              "    \"head\": 9,\n",
              "    \"deprel\": \"compound\",\n",
              "    \"misc\": \"start_char=38|end_char=42\"\n",
              "  },\n",
              "  {\n",
              "    \"id\": \"8\",\n",
              "    \"text\": \"नरेन्द्र\",\n",
              "    \"lemma\": \"नरेंद्र\",\n",
              "    \"upos\": \"PROPN\",\n",
              "    \"xpos\": \"NNPC\",\n",
              "    \"feats\": \"Case=Nom|Gender=Masc|Number=Sing|Person=3\",\n",
              "    \"head\": 9,\n",
              "    \"deprel\": \"compound\",\n",
              "    \"misc\": \"start_char=43|end_char=51\"\n",
              "  },\n",
              "  {\n",
              "    \"id\": \"9\",\n",
              "    \"text\": \"मोदी\",\n",
              "    \"lemma\": \"मोदी\",\n",
              "    \"upos\": \"PROPN\",\n",
              "    \"xpos\": \"NNP\",\n",
              "    \"feats\": \"Case=Nom|Gender=Masc|Number=Sing|Person=3\",\n",
              "    \"head\": 0,\n",
              "    \"deprel\": \"root\",\n",
              "    \"misc\": \"start_char=52|end_char=56\"\n",
              "  },\n",
              "  {\n",
              "    \"id\": \"10\",\n",
              "    \"text\": \"है\",\n",
              "    \"lemma\": \"है\",\n",
              "    \"upos\": \"AUX\",\n",
              "    \"xpos\": \"VM\",\n",
              "    \"feats\": \"Mood=Ind|Number=Sing|Person=3|Tense=Pres|VerbForm=Fin|Voice=Act\",\n",
              "    \"head\": 9,\n",
              "    \"deprel\": \"cop\",\n",
              "    \"misc\": \"start_char=57|end_char=59\"\n",
              "  },\n",
              "  {\n",
              "    \"id\": \"11\",\n",
              "    \"text\": \"।\",\n",
              "    \"lemma\": \"।\",\n",
              "    \"upos\": \"PUNCT\",\n",
              "    \"xpos\": \"SYM\",\n",
              "    \"head\": 9,\n",
              "    \"deprel\": \"punct\",\n",
              "    \"misc\": \"start_char=59|end_char=60\"\n",
              "  }\n",
              "]>"
            ]
          },
          "metadata": {
            "tags": []
          },
          "execution_count": 41
        }
      ]
    },
    {
      "cell_type": "code",
      "metadata": {
        "id": "cRSxlbRdrTYG",
        "colab_type": "code",
        "colab": {
          "base_uri": "https://localhost:8080/",
          "height": 1000
        },
        "outputId": "4d905429-7347-431c-e502-b237d58e5eee"
      },
      "source": [
        "(doc_hindi.sentences)[0].print_tokens"
      ],
      "execution_count": null,
      "outputs": [
        {
          "output_type": "execute_result",
          "data": {
            "text/plain": [
              "<bound method Sentence.print_tokens of [\n",
              "  {\n",
              "    \"id\": \"1\",\n",
              "    \"text\": \"वर्तमान\",\n",
              "    \"lemma\": \"वर्तमान\",\n",
              "    \"upos\": \"NOUN\",\n",
              "    \"xpos\": \"NN\",\n",
              "    \"feats\": \"Case=Acc|Gender=Masc|Number=Sing|Person=3\",\n",
              "    \"head\": 9,\n",
              "    \"deprel\": \"nmod\",\n",
              "    \"misc\": \"start_char=0|end_char=7\"\n",
              "  },\n",
              "  {\n",
              "    \"id\": \"2\",\n",
              "    \"text\": \"में\",\n",
              "    \"lemma\": \"में\",\n",
              "    \"upos\": \"ADP\",\n",
              "    \"xpos\": \"PSP\",\n",
              "    \"feats\": \"AdpType=Post\",\n",
              "    \"head\": 1,\n",
              "    \"deprel\": \"case\",\n",
              "    \"misc\": \"start_char=8|end_char=11\"\n",
              "  },\n",
              "  {\n",
              "    \"id\": \"3\",\n",
              "    \"text\": \"हमारे\",\n",
              "    \"lemma\": \"हम\",\n",
              "    \"upos\": \"PRON\",\n",
              "    \"xpos\": \"PRP\",\n",
              "    \"feats\": \"Case=Acc,Gen|Gender=Masc|Number=Plur|Person=1|Poss=Yes|PronType=Prs\",\n",
              "    \"head\": 4,\n",
              "    \"deprel\": \"nmod\",\n",
              "    \"misc\": \"start_char=12|end_char=17\"\n",
              "  },\n",
              "  {\n",
              "    \"id\": \"4\",\n",
              "    \"text\": \"देश\",\n",
              "    \"lemma\": \"देश\",\n",
              "    \"upos\": \"NOUN\",\n",
              "    \"xpos\": \"NN\",\n",
              "    \"feats\": \"Case=Acc|Gender=Masc|Number=Sing|Person=3\",\n",
              "    \"head\": 6,\n",
              "    \"deprel\": \"nmod\",\n",
              "    \"misc\": \"start_char=18|end_char=21\"\n",
              "  },\n",
              "  {\n",
              "    \"id\": \"5\",\n",
              "    \"text\": \"के\",\n",
              "    \"lemma\": \"का\",\n",
              "    \"upos\": \"ADP\",\n",
              "    \"xpos\": \"PSP\",\n",
              "    \"feats\": \"AdpType=Post|Case=Nom|Gender=Masc|Number=Sing|Person=3|Polite=Form\",\n",
              "    \"head\": 4,\n",
              "    \"deprel\": \"case\",\n",
              "    \"misc\": \"start_char=22|end_char=24\"\n",
              "  },\n",
              "  {\n",
              "    \"id\": \"6\",\n",
              "    \"text\": \"प्रधानमंत्री\",\n",
              "    \"lemma\": \"प्रधानमंत्री\",\n",
              "    \"upos\": \"PROPN\",\n",
              "    \"xpos\": \"NNP\",\n",
              "    \"feats\": \"Case=Nom|Gender=Masc|Number=Sing|Person=3\",\n",
              "    \"head\": 9,\n",
              "    \"deprel\": \"nmod\",\n",
              "    \"misc\": \"start_char=25|end_char=37\"\n",
              "  },\n",
              "  {\n",
              "    \"id\": \"7\",\n",
              "    \"text\": \"श्री\",\n",
              "    \"lemma\": \"श्री\",\n",
              "    \"upos\": \"PROPN\",\n",
              "    \"xpos\": \"NNPC\",\n",
              "    \"feats\": \"Case=Nom|Gender=Masc|Number=Sing|Person=3\",\n",
              "    \"head\": 9,\n",
              "    \"deprel\": \"compound\",\n",
              "    \"misc\": \"start_char=38|end_char=42\"\n",
              "  },\n",
              "  {\n",
              "    \"id\": \"8\",\n",
              "    \"text\": \"नरेन्द्र\",\n",
              "    \"lemma\": \"नरेंद्र\",\n",
              "    \"upos\": \"PROPN\",\n",
              "    \"xpos\": \"NNPC\",\n",
              "    \"feats\": \"Case=Nom|Gender=Masc|Number=Sing|Person=3\",\n",
              "    \"head\": 9,\n",
              "    \"deprel\": \"compound\",\n",
              "    \"misc\": \"start_char=43|end_char=51\"\n",
              "  },\n",
              "  {\n",
              "    \"id\": \"9\",\n",
              "    \"text\": \"मोदी\",\n",
              "    \"lemma\": \"मोदी\",\n",
              "    \"upos\": \"PROPN\",\n",
              "    \"xpos\": \"NNP\",\n",
              "    \"feats\": \"Case=Nom|Gender=Masc|Number=Sing|Person=3\",\n",
              "    \"head\": 0,\n",
              "    \"deprel\": \"root\",\n",
              "    \"misc\": \"start_char=52|end_char=56\"\n",
              "  },\n",
              "  {\n",
              "    \"id\": \"10\",\n",
              "    \"text\": \"है\",\n",
              "    \"lemma\": \"है\",\n",
              "    \"upos\": \"AUX\",\n",
              "    \"xpos\": \"VM\",\n",
              "    \"feats\": \"Mood=Ind|Number=Sing|Person=3|Tense=Pres|VerbForm=Fin|Voice=Act\",\n",
              "    \"head\": 9,\n",
              "    \"deprel\": \"cop\",\n",
              "    \"misc\": \"start_char=57|end_char=59\"\n",
              "  },\n",
              "  {\n",
              "    \"id\": \"11\",\n",
              "    \"text\": \"।\",\n",
              "    \"lemma\": \"।\",\n",
              "    \"upos\": \"PUNCT\",\n",
              "    \"xpos\": \"SYM\",\n",
              "    \"head\": 9,\n",
              "    \"deprel\": \"punct\",\n",
              "    \"misc\": \"start_char=59|end_char=60\"\n",
              "  }\n",
              "]>"
            ]
          },
          "metadata": {
            "tags": []
          },
          "execution_count": 42
        }
      ]
    },
    {
      "cell_type": "code",
      "metadata": {
        "id": "hv9ZgwUCwmyq",
        "colab_type": "code",
        "colab": {}
      },
      "source": [
        ""
      ],
      "execution_count": null,
      "outputs": []
    },
    {
      "cell_type": "code",
      "metadata": {
        "id": "UhgEiR5CvVnR",
        "colab_type": "code",
        "colab": {
          "base_uri": "https://localhost:8080/",
          "height": 237
        },
        "outputId": "13751ee8-6f31-4cdc-c9ad-10e96236e6fc"
      },
      "source": [
        "(doc_hindi.sentences)[0].print_tokens()"
      ],
      "execution_count": null,
      "outputs": [
        {
          "output_type": "stream",
          "text": [
            "<Token id=1;words=[<Word id=1;text=वर्तमान;lemma=वर्तमान;upos=NOUN;xpos=NN;feats=Case=Acc|Gender=Masc|Number=Sing|Person=3;head=9;deprel=nmod>]>\n",
            "<Token id=2;words=[<Word id=2;text=में;lemma=में;upos=ADP;xpos=PSP;feats=AdpType=Post;head=1;deprel=case>]>\n",
            "<Token id=3;words=[<Word id=3;text=हमारे;lemma=हम;upos=PRON;xpos=PRP;feats=Case=Acc,Gen|Gender=Masc|Number=Plur|Person=1|Poss=Yes|PronType=Prs;head=4;deprel=nmod>]>\n",
            "<Token id=4;words=[<Word id=4;text=देश;lemma=देश;upos=NOUN;xpos=NN;feats=Case=Acc|Gender=Masc|Number=Sing|Person=3;head=6;deprel=nmod>]>\n",
            "<Token id=5;words=[<Word id=5;text=के;lemma=का;upos=ADP;xpos=PSP;feats=AdpType=Post|Case=Nom|Gender=Masc|Number=Sing|Person=3|Polite=Form;head=4;deprel=case>]>\n",
            "<Token id=6;words=[<Word id=6;text=प्रधानमंत्री;lemma=प्रधानमंत्री;upos=PROPN;xpos=NNP;feats=Case=Nom|Gender=Masc|Number=Sing|Person=3;head=9;deprel=nmod>]>\n",
            "<Token id=7;words=[<Word id=7;text=श्री;lemma=श्री;upos=PROPN;xpos=NNPC;feats=Case=Nom|Gender=Masc|Number=Sing|Person=3;head=9;deprel=compound>]>\n",
            "<Token id=8;words=[<Word id=8;text=नरेन्द्र;lemma=नरेंद्र;upos=PROPN;xpos=NNPC;feats=Case=Nom|Gender=Masc|Number=Sing|Person=3;head=9;deprel=compound>]>\n",
            "<Token id=9;words=[<Word id=9;text=मोदी;lemma=मोदी;upos=PROPN;xpos=NNP;feats=Case=Nom|Gender=Masc|Number=Sing|Person=3;head=0;deprel=root>]>\n",
            "<Token id=10;words=[<Word id=10;text=है;lemma=है;upos=AUX;xpos=VM;feats=Mood=Ind|Number=Sing|Person=3|Tense=Pres|VerbForm=Fin|Voice=Act;head=9;deprel=cop>]>\n",
            "<Token id=11;words=[<Word id=11;text=।;lemma=।;upos=PUNCT;xpos=SYM;head=9;deprel=punct>]>\n"
          ],
          "name": "stdout"
        }
      ]
    },
    {
      "cell_type": "code",
      "metadata": {
        "id": "bMnoct6IvpOS",
        "colab_type": "code",
        "colab": {}
      },
      "source": [
        "doc_hindi=nlp_hindi('भारत एक खूबसूरत देश है जो अपनी अलग संस्कृति और परंपरा के लिये जाना जाता है')"
      ],
      "execution_count": null,
      "outputs": []
    },
    {
      "cell_type": "code",
      "metadata": {
        "id": "00xT3sz-xDbz",
        "colab_type": "code",
        "colab": {
          "base_uri": "https://localhost:8080/",
          "height": 328
        },
        "outputId": "b3d44a9d-a0e6-4035-c6ac-566a94d897bc"
      },
      "source": [
        "(doc_hindi.sentences)[0].print_tokens()"
      ],
      "execution_count": null,
      "outputs": [
        {
          "output_type": "stream",
          "text": [
            "<Token id=1;words=[<Word id=1;text=भारत;lemma=भारत;upos=PROPN;xpos=NNP;feats=Case=Nom|Gender=Masc|Number=Sing|Person=3;head=4;deprel=nsubj>]>\n",
            "<Token id=2;words=[<Word id=2;text=एक;lemma=एक;upos=NUM;xpos=QC;feats=NumType=Card;head=4;deprel=nummod>]>\n",
            "<Token id=3;words=[<Word id=3;text=खूबसूरत;lemma=खूबसूरत;upos=ADJ;xpos=JJ;feats=Case=Nom;head=4;deprel=amod>]>\n",
            "<Token id=4;words=[<Word id=4;text=देश;lemma=देश;upos=NOUN;xpos=NN;feats=Case=Nom|Gender=Masc|Number=Sing|Person=3;head=0;deprel=root>]>\n",
            "<Token id=5;words=[<Word id=5;text=है;lemma=है;upos=AUX;xpos=VM;feats=Mood=Ind|Number=Sing|Person=3|Tense=Pres|VerbForm=Fin|Voice=Act;head=4;deprel=cop>]>\n",
            "<Token id=6;words=[<Word id=6;text=जो;lemma=जो;upos=PRON;xpos=PRP;feats=Case=Nom|Number=Sing|Person=3|PronType=Prs;head=14;deprel=nsubj:pass>]>\n",
            "<Token id=7;words=[<Word id=7;text=अपनी;lemma=अपना;upos=PRON;xpos=PRP;feats=Case=Acc|Gender=Fem|PronType=Prs;head=9;deprel=nmod>]>\n",
            "<Token id=8;words=[<Word id=8;text=अलग;lemma=अलग;upos=ADJ;xpos=JJ;feats=Case=Acc;head=9;deprel=amod>]>\n",
            "<Token id=9;words=[<Word id=9;text=संस्कृति;lemma=संस्कृति;upos=NOUN;xpos=NN;feats=Case=Acc|Gender=Fem|Number=Sing|Person=3;head=14;deprel=obl>]>\n",
            "<Token id=10;words=[<Word id=10;text=और;lemma=और;upos=CCONJ;xpos=CC;head=11;deprel=cc>]>\n",
            "<Token id=11;words=[<Word id=11;text=परंपरा;lemma=परंपरा;upos=NOUN;xpos=NN;feats=Case=Acc|Gender=Fem|Number=Sing|Person=3;head=9;deprel=conj>]>\n",
            "<Token id=12;words=[<Word id=12;text=के;lemma=का;upos=ADP;xpos=PSP;feats=AdpType=Post;head=9;deprel=case>]>\n",
            "<Token id=13;words=[<Word id=13;text=लिये;lemma=लिये;upos=ADP;xpos=PSP;feats=AdpType=Post;head=9;deprel=case>]>\n",
            "<Token id=14;words=[<Word id=14;text=जाना;lemma=जा;upos=VERB;xpos=VM;feats=Aspect=Perf|Gender=Masc|Number=Sing|Person=3|VerbForm=Part|Voice=Pass;head=4;deprel=acl:relcl>]>\n",
            "<Token id=15;words=[<Word id=15;text=जाता;lemma=जा;upos=AUX;xpos=VAUX;feats=Aspect=Imp|Gender=Masc|Number=Sing|VerbForm=Part;head=14;deprel=aux:pass>]>\n",
            "<Token id=16;words=[<Word id=16;text=है;lemma=है;upos=AUX;xpos=VAUX;feats=Mood=Ind|Number=Sing|Person=3|Tense=Pres|VerbForm=Fin;head=14;deprel=aux:pass>]>\n"
          ],
          "name": "stdout"
        }
      ]
    },
    {
      "cell_type": "code",
      "metadata": {
        "id": "tL9NklhLxFHZ",
        "colab_type": "code",
        "colab": {
          "base_uri": "https://localhost:8080/",
          "height": 1000
        },
        "outputId": "dd8738e4-78b9-4432-865e-39278055ebc7"
      },
      "source": [
        "doc_hindi"
      ],
      "execution_count": null,
      "outputs": [
        {
          "output_type": "execute_result",
          "data": {
            "text/plain": [
              "[\n",
              "  [\n",
              "    {\n",
              "      \"id\": \"1\",\n",
              "      \"text\": \"भारत\",\n",
              "      \"lemma\": \"भारत\",\n",
              "      \"upos\": \"PROPN\",\n",
              "      \"xpos\": \"NNP\",\n",
              "      \"feats\": \"Case=Nom|Gender=Masc|Number=Sing|Person=3\",\n",
              "      \"head\": 4,\n",
              "      \"deprel\": \"nsubj\",\n",
              "      \"misc\": \"start_char=0|end_char=4\"\n",
              "    },\n",
              "    {\n",
              "      \"id\": \"2\",\n",
              "      \"text\": \"एक\",\n",
              "      \"lemma\": \"एक\",\n",
              "      \"upos\": \"NUM\",\n",
              "      \"xpos\": \"QC\",\n",
              "      \"feats\": \"NumType=Card\",\n",
              "      \"head\": 4,\n",
              "      \"deprel\": \"nummod\",\n",
              "      \"misc\": \"start_char=5|end_char=7\"\n",
              "    },\n",
              "    {\n",
              "      \"id\": \"3\",\n",
              "      \"text\": \"खूबसूरत\",\n",
              "      \"lemma\": \"खूबसूरत\",\n",
              "      \"upos\": \"ADJ\",\n",
              "      \"xpos\": \"JJ\",\n",
              "      \"feats\": \"Case=Nom\",\n",
              "      \"head\": 4,\n",
              "      \"deprel\": \"amod\",\n",
              "      \"misc\": \"start_char=8|end_char=15\"\n",
              "    },\n",
              "    {\n",
              "      \"id\": \"4\",\n",
              "      \"text\": \"देश\",\n",
              "      \"lemma\": \"देश\",\n",
              "      \"upos\": \"NOUN\",\n",
              "      \"xpos\": \"NN\",\n",
              "      \"feats\": \"Case=Nom|Gender=Masc|Number=Sing|Person=3\",\n",
              "      \"head\": 0,\n",
              "      \"deprel\": \"root\",\n",
              "      \"misc\": \"start_char=16|end_char=19\"\n",
              "    },\n",
              "    {\n",
              "      \"id\": \"5\",\n",
              "      \"text\": \"है\",\n",
              "      \"lemma\": \"है\",\n",
              "      \"upos\": \"AUX\",\n",
              "      \"xpos\": \"VM\",\n",
              "      \"feats\": \"Mood=Ind|Number=Sing|Person=3|Tense=Pres|VerbForm=Fin|Voice=Act\",\n",
              "      \"head\": 4,\n",
              "      \"deprel\": \"cop\",\n",
              "      \"misc\": \"start_char=20|end_char=22\"\n",
              "    },\n",
              "    {\n",
              "      \"id\": \"6\",\n",
              "      \"text\": \"जो\",\n",
              "      \"lemma\": \"जो\",\n",
              "      \"upos\": \"PRON\",\n",
              "      \"xpos\": \"PRP\",\n",
              "      \"feats\": \"Case=Nom|Number=Sing|Person=3|PronType=Prs\",\n",
              "      \"head\": 14,\n",
              "      \"deprel\": \"nsubj:pass\",\n",
              "      \"misc\": \"start_char=23|end_char=25\"\n",
              "    },\n",
              "    {\n",
              "      \"id\": \"7\",\n",
              "      \"text\": \"अपनी\",\n",
              "      \"lemma\": \"अपना\",\n",
              "      \"upos\": \"PRON\",\n",
              "      \"xpos\": \"PRP\",\n",
              "      \"feats\": \"Case=Acc|Gender=Fem|PronType=Prs\",\n",
              "      \"head\": 9,\n",
              "      \"deprel\": \"nmod\",\n",
              "      \"misc\": \"start_char=26|end_char=30\"\n",
              "    },\n",
              "    {\n",
              "      \"id\": \"8\",\n",
              "      \"text\": \"अलग\",\n",
              "      \"lemma\": \"अलग\",\n",
              "      \"upos\": \"ADJ\",\n",
              "      \"xpos\": \"JJ\",\n",
              "      \"feats\": \"Case=Acc\",\n",
              "      \"head\": 9,\n",
              "      \"deprel\": \"amod\",\n",
              "      \"misc\": \"start_char=31|end_char=34\"\n",
              "    },\n",
              "    {\n",
              "      \"id\": \"9\",\n",
              "      \"text\": \"संस्कृति\",\n",
              "      \"lemma\": \"संस्कृति\",\n",
              "      \"upos\": \"NOUN\",\n",
              "      \"xpos\": \"NN\",\n",
              "      \"feats\": \"Case=Acc|Gender=Fem|Number=Sing|Person=3\",\n",
              "      \"head\": 14,\n",
              "      \"deprel\": \"obl\",\n",
              "      \"misc\": \"start_char=35|end_char=43\"\n",
              "    },\n",
              "    {\n",
              "      \"id\": \"10\",\n",
              "      \"text\": \"और\",\n",
              "      \"lemma\": \"और\",\n",
              "      \"upos\": \"CCONJ\",\n",
              "      \"xpos\": \"CC\",\n",
              "      \"head\": 11,\n",
              "      \"deprel\": \"cc\",\n",
              "      \"misc\": \"start_char=44|end_char=46\"\n",
              "    },\n",
              "    {\n",
              "      \"id\": \"11\",\n",
              "      \"text\": \"परंपरा\",\n",
              "      \"lemma\": \"परंपरा\",\n",
              "      \"upos\": \"NOUN\",\n",
              "      \"xpos\": \"NN\",\n",
              "      \"feats\": \"Case=Acc|Gender=Fem|Number=Sing|Person=3\",\n",
              "      \"head\": 9,\n",
              "      \"deprel\": \"conj\",\n",
              "      \"misc\": \"start_char=47|end_char=53\"\n",
              "    },\n",
              "    {\n",
              "      \"id\": \"12\",\n",
              "      \"text\": \"के\",\n",
              "      \"lemma\": \"का\",\n",
              "      \"upos\": \"ADP\",\n",
              "      \"xpos\": \"PSP\",\n",
              "      \"feats\": \"AdpType=Post\",\n",
              "      \"head\": 9,\n",
              "      \"deprel\": \"case\",\n",
              "      \"misc\": \"start_char=54|end_char=56\"\n",
              "    },\n",
              "    {\n",
              "      \"id\": \"13\",\n",
              "      \"text\": \"लिये\",\n",
              "      \"lemma\": \"लिये\",\n",
              "      \"upos\": \"ADP\",\n",
              "      \"xpos\": \"PSP\",\n",
              "      \"feats\": \"AdpType=Post\",\n",
              "      \"head\": 9,\n",
              "      \"deprel\": \"case\",\n",
              "      \"misc\": \"start_char=57|end_char=61\"\n",
              "    },\n",
              "    {\n",
              "      \"id\": \"14\",\n",
              "      \"text\": \"जाना\",\n",
              "      \"lemma\": \"जा\",\n",
              "      \"upos\": \"VERB\",\n",
              "      \"xpos\": \"VM\",\n",
              "      \"feats\": \"Aspect=Perf|Gender=Masc|Number=Sing|Person=3|VerbForm=Part|Voice=Pass\",\n",
              "      \"head\": 4,\n",
              "      \"deprel\": \"acl:relcl\",\n",
              "      \"misc\": \"start_char=62|end_char=66\"\n",
              "    },\n",
              "    {\n",
              "      \"id\": \"15\",\n",
              "      \"text\": \"जाता\",\n",
              "      \"lemma\": \"जा\",\n",
              "      \"upos\": \"AUX\",\n",
              "      \"xpos\": \"VAUX\",\n",
              "      \"feats\": \"Aspect=Imp|Gender=Masc|Number=Sing|VerbForm=Part\",\n",
              "      \"head\": 14,\n",
              "      \"deprel\": \"aux:pass\",\n",
              "      \"misc\": \"start_char=67|end_char=71\"\n",
              "    },\n",
              "    {\n",
              "      \"id\": \"16\",\n",
              "      \"text\": \"है\",\n",
              "      \"lemma\": \"है\",\n",
              "      \"upos\": \"AUX\",\n",
              "      \"xpos\": \"VAUX\",\n",
              "      \"feats\": \"Mood=Ind|Number=Sing|Person=3|Tense=Pres|VerbForm=Fin\",\n",
              "      \"head\": 14,\n",
              "      \"deprel\": \"aux:pass\",\n",
              "      \"misc\": \"start_char=72|end_char=74\"\n",
              "    }\n",
              "  ]\n",
              "]"
            ]
          },
          "metadata": {
            "tags": []
          },
          "execution_count": 48
        }
      ]
    },
    {
      "cell_type": "code",
      "metadata": {
        "id": "dM6SGzfVxKZ1",
        "colab_type": "code",
        "colab": {
          "base_uri": "https://localhost:8080/",
          "height": 35
        },
        "outputId": "eca03bfe-b544-401a-b2e0-87964f00cfa3"
      },
      "source": [
        "doc_hindi.entities"
      ],
      "execution_count": null,
      "outputs": [
        {
          "output_type": "execute_result",
          "data": {
            "text/plain": [
              "[]"
            ]
          },
          "metadata": {
            "tags": []
          },
          "execution_count": 49
        }
      ]
    },
    {
      "cell_type": "code",
      "metadata": {
        "id": "vHCUZ3OCxOHd",
        "colab_type": "code",
        "colab": {}
      },
      "source": [
        ""
      ],
      "execution_count": null,
      "outputs": []
    }
  ]
}